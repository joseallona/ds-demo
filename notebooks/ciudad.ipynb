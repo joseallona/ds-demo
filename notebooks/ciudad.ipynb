{
 "cells": [
  {
   "cell_type": "code",
   "execution_count": 7,
   "metadata": {},
   "outputs": [],
   "source": [
    "import requests\n",
    "from bs4 import BeautifulSoup as bs\n",
    "import csv as csv\n",
    "\n",
    "#Add website with https and no / at the end\n",
    "website =\"https://www.ciudad.com.ar\"\n",
    "csv_filename=\"ciudad_news.csv\""
   ]
  },
  {
   "cell_type": "code",
   "execution_count": 8,
   "metadata": {},
   "outputs": [],
   "source": [
    "def is_available(e):\n",
    "    if e:\n",
    "        return e.text.strip()\n",
    "    else:\n",
    "        return None\n",
    "def get_home_articles(url:str) -> list:\n",
    "  article = requests.get(url)\n",
    "  container = bs(article.content, \"html.parser\")\n",
    "  body = container.find(\"main\")\n",
    "  #urls = body.find_all(\"a\")\n",
    "  article_list = {\"list\":[]}\n",
    "  counter = 0\n",
    "    #print(card.a.get(\"href\"))\n",
    "  for h2 in body.find_all(\"h2\", class_=\"card__headline\"):\n",
    "    item = {}\n",
    "    #print(h2.a.text)\n",
    "    if(is_available(h2.a)!=None):\n",
    "      item[\"title\"]  = h2.a.text\n",
    "      item[\"url\"]  = url + h2.a.get(\"href\")\n",
    "      article_list[\"list\"].append(item)\n",
    "       \n",
    "  print(article_list[\"list\"]) \n",
    "  return article_list[\"list\"]\n",
    "\n",
    "#uncomment for testing\n",
    "#get_home_articles(website)"
   ]
  },
  {
   "cell_type": "code",
   "execution_count": 9,
   "metadata": {},
   "outputs": [],
   "source": [
    "\n",
    "class retrieve_news:\n",
    "    def __init__(self, url:str):\n",
    "        article = requests.get(url)\n",
    "        self.soup = bs(article.content, \"html.parser\")\n",
    "        self.body = self.get_body()        \n",
    "        self.title = self.get_title()\n",
    "        \n",
    "\n",
    "    def get_body(self) -> list:\n",
    "        body = self.soup.find(class_=\"article__body\")\n",
    "        if(body != None):\n",
    "            content=\"\"\n",
    "            for p in body.find_all(\"p\"):\n",
    "                content = content + p.text\n",
    "                content = content + \"\\n\"     \n",
    "            #return [p.text for p in body.find_all(\"p\")]\n",
    "            return content\n",
    "        else:\n",
    "            return None\n",
    "    \n",
    "    def get_title(self) -> str:\n",
    "        return self.soup.find(class_=\"article__title\").text"
   ]
  },
  {
   "cell_type": "code",
   "execution_count": 10,
   "metadata": {},
   "outputs": [
    {
     "name": "stdout",
     "output_type": "stream",
     "text": [
      "[{'title': 'Exclusivo | Flor Vigna confirmó su noviazgo con Lauta en Los Más Clickeados 2024: “Vamos a lanzar un tema” ', 'url': 'https://www.ciudad.com.ar/exclusivo/2024/11/12/exclusivo-flor-vigna-confirmo-su-noviazgo-con-lauta-en-los-mas-clickeados-2024-vamos-a-lanzar-un-tema/'}, {'title': 'La contundente reacción de Sabrina Rojas mientras premiaban a Griselda Siciliani en Los Más Clickeados 2024', 'url': 'https://www.ciudad.com.ar/espectaculos/2024/11/12/la-contundente-reaccion-de-sabrina-rojas-mientras-premiaban-a-griselda-siciliani-en-los-mas-clickeados-2024/'}, {'title': 'En fotos, todos los ganadores de Los Más Clickeados 2024', 'url': 'https://www.ciudad.com.ar/espectaculos/2024/11/11/quienes-fueron-los-ganadores-de-los-mas-clickeados-2024/'}, {'title': 'Federico Bal se separó de Florencia Díaz: el frío gesto de la bailarina', 'url': 'https://www.ciudad.com.ar/espectaculos/2024/11/12/federico-bal-se-separo-de-florencia-diaz-el-frio-gesto-de-la-bailarina/'}, {'title': 'Alberto Cormillot se emocionó tras ganar el premio de Oro en Los Más Clickeados 2024', 'url': 'https://www.ciudad.com.ar/los-mas-clickeados/2024/11/12/alberto-cormillot-se-emociono-tras-ganar-el-premio-de-oro-en-los-mas-clickeados-2024/'}, {'title': 'El Polaco blanqueó qué pasó con China Suárez: “Estábamos en un impasse con Barby Silenzi”', 'url': 'https://www.ciudad.com.ar/espectaculos/2024/11/12/el-polaco-blanqueo-que-paso-con-china-suarez-estabamos-en-un-impasse-con-barby-silenzi/'}, {'title': 'Reclamos en Viernes Trece: ¿Fausti miente?', 'url': 'https://www.ciudad.com.ar/videos/espectaculos/2024/11/12/reclamos-en-viernes-trece-fausti-miente/'}, {'title': 'La foto del beso de Pampita y Martín Pepa en Europa que confirma el romance', 'url': 'https://www.ciudad.com.ar/espectaculos/2024/11/12/la-foto-del-beso-de-pampita-y-martin-pepa-en-europa-que-confirma-el-romance/'}, {'title': 'Wanda Nara y L-Gante llegaron a la Argentina con Jamaica tras su fugaz viaje romántico a Brasil: las fotos', 'url': 'https://www.ciudad.com.ar/espectaculos/2024/11/12/wanda-nara-y-l-gante-llegaron-a-la-argentina-con-jamaica-tras-su-fugaz-viaje-romantico-a-brasil-las-fotos/'}, {'title': 'Los mejor vestidos de Los Más Clickeados 2024, la gran gala de Ciudad Magazine', 'url': 'https://www.ciudad.com.ar/espectaculos/2024/11/11/los-mejores-vestidos-de-los-mas-clickeados-2024-la-gran-gala-de-ciudad-magazine/'}, {'title': 'Yanina Latorre expuso cómo Wanda Nara le filtraba intimidades de Mauro Icardi y China Suárez', 'url': 'https://www.ciudad.com.ar/espectaculos/2024/11/12/yanina-latorre-expuso-como-wanda-nara-le-filtraba-intimidades-de-mauro-icardi-y-china-suarez/'}, {'title': 'Se filtró una foto de Wanda Nara y L-Gante teniendo intimidad en el aeropuerto', 'url': 'https://www.ciudad.com.ar/espectaculos/2024/11/12/se-filtro-una-foto-de-wanda-nara-y-l-gante-teniendo-intimidad-en-el-aeropuerto/'}, {'title': 'El sincericidio de Mariana Brey al ver una foto privada de Pampita con Martín Pepa: “A Vicuña no lo...”', 'url': 'https://www.ciudad.com.ar/espectaculos/2024/11/12/el-sincericidio-de-mariana-brey-al-ver-una-foto-privada-de-pampita-con-martin-pepa/'}, {'title': 'Qué dijo Fabián Paz del look de Furia para Los Más Clickeados 2024', 'url': 'https://www.ciudad.com.ar/espectaculos/2024/11/12/que-dijo-fabian-paz-del-look-de-furia-para-los-mas-clickeados-2024/'}, {'title': 'Mica Viciconte, Fabián Cubero y Luca desfilaron por la alfombra roja de Los Más Clickeados 2024: el video', 'url': 'https://www.ciudad.com.ar/espectaculos/2024/11/12/mica-viciconte-fabian-cubero-y-luca-desfilaron-por-la-alfombra-roja-de-los-mas-clickeados-2024-el-video/'}, {'title': 'Dani La Chepi llega con su show a Buenos Aires: ¿cuánto le aporta su hija  su vida?', 'url': 'https://www.ciudad.com.ar/videos/espectaculos/2024/11/07/dani-la-chepi-llega-con-su-show-a-buenos-aires-cuanto-le-aporta-su-hija-su-vida/'}, {'title': 'Luis Ventura reveló a su favorito para conducir los Martín Fierro en España: “¿Quién te dice?”', 'url': 'https://www.ciudad.com.ar/videos/espectaculos/2024/10/22/luis-ventura-revelo-a-su-favorito-para-conducir-los-martin-fierro-en-espana-quien-te-dice/'}, {'title': 'La emoción de Mirtha Legrand, homenajeada con el Doctorado Honoris Causa de la UBA ', 'url': 'https://www.ciudad.com.ar/videos/espectaculos/2024/10/17/la-emocion-de-mirtha-legrand-homenajeada-con-el-doctorado-honoris-causa-de-la-uba/'}, {'title': 'Así fue la última entrevista a Selva Alemán: exclusivo Mshow', 'url': 'https://www.ciudad.com.ar/videos/espectaculos/2024/09/04/asi-fue-la-ultima-entrevista-a-selvan-aleman-exclusivo-mshow/'}, {'title': 'Qué dijo Carmen Barbieri de Furia tras conocerla personalmente en Los Más Clickeados 2024: “Es una mujer…”', 'url': 'https://www.ciudad.com.ar/espectaculos/2024/11/12/que-dijo-carmen-barbieri-de-furia-tras-conocerla-personalmente-en-los-mas-clickeados-2024/'}, {'title': 'Se filtró una foto de Wanda Nara y L-Gante teniendo intimidad en el aeropuerto', 'url': 'https://www.ciudad.com.ar/espectaculos/2024/11/12/se-filtro-una-foto-de-wanda-nara-y-l-gante-teniendo-intimidad-en-el-aeropuerto/'}, {'title': 'El escandaloso motivo por el que Mauro Icardi habría viajado de urgencia al país: “Re contra confirmado”', 'url': 'https://www.ciudad.com.ar/espectaculos/2024/11/12/el-escandaloso-motivo-por-el-que-mauro-icardi-habria-viajado-de-urgencia-al-pais-re-contra-confirmado/'}, {'title': 'Los Más Clickeados 2024: una noche de estrellas elegidas por la audiencia de Ciudad Magazine', 'url': 'https://www.ciudad.com.ar/exclusivo/2024/11/01/los-mas-clickeados-2024-una-noche-de-estrellas-y-clicks-en-ciudad-magazine/'}, {'title': 'Vuelve Gran Hermano y Pampito te cuenta todo: primicias y detalles imperdibles del reality', 'url': 'https://www.ciudad.com.ar/espectaculos/2024/11/06/vuelve-gran-hermano-y-pampito-te-cuenta-todo-primicias-y-detalles-imperdibles-del-reality/'}, {'title': 'La lujosa fiesta de 15 de la hija de Elba Marcovecchio bajo la lupa de Pampito', 'url': 'https://www.ciudad.com.ar/videos/espectaculos/2024/10/23/la-lujosa-fiesta-de-15-de-la-hija-de-elba-marcovecchio-bajo-la-lupa-de-pampito/'}, {'title': 'Pampito te cuenta toda la verdad sobre la trágica muerte de Liam Payne', 'url': 'https://www.ciudad.com.ar/videos/espectaculos/2024/10/18/pampito-te-cuenta-toda-la-verdad-sobre-la-tragica-muerte-de-liam-payne/'}, {'title': 'La foto de Pampita en Londres que tendría una picante indirecta a Roberto García Moritán', 'url': 'https://www.ciudad.com.ar/espectaculos/2024/11/12/la-foto-de-pampita-en-londres-que-tendria-una-picante-indirecta-a-roberto-garcia-moritan/'}, {'title': 'Yanina Latorre expuso cómo Wanda Nara le filtraba intimidades de Mauro Icardi y China Suárez', 'url': 'https://www.ciudad.com.ar/espectaculos/2024/11/12/yanina-latorre-expuso-como-wanda-nara-le-filtraba-intimidades-de-mauro-icardi-y-china-suarez/'}, {'title': 'La foto del beso de Pampita y Martín Pepa en Europa que confirma el romance', 'url': 'https://www.ciudad.com.ar/espectaculos/2024/11/12/la-foto-del-beso-de-pampita-y-martin-pepa-en-europa-que-confirma-el-romance/'}, {'title': 'Qué dijo Wanda Nara sobre el explosivo rumor de embarazo de L-Gante', 'url': 'https://www.ciudad.com.ar/espectaculos/2024/11/12/que-dijo-wanda-nara-sobre-el-explosivo-rumor-de-embarazo-de-l-gante/'}, {'title': 'Iliana Calabró contó lo mucho que cambió su hermana Marina desde que está de novia con Rolando Barbano', 'url': 'https://www.ciudad.com.ar/espectaculos/2024/11/12/iliana-calabro-conto-lo-mucho-que-cambio-su-hermana-marina-desde-que-esta-de-novia-con-rolando-barbano/'}, {'title': 'Evaluna Montaner sufrió un “accidente” típico de mamá lactante y compartió el video en redes', 'url': 'https://www.ciudad.com.ar/espectaculos/2024/11/12/evaluna-montaner-sufrio-un-accidente-tipico-de-mama-lactante-y-compartio-el-video-en-redes-y-bueh/'}, {'title': 'Wanda Nara y L-Gante llegaron a la Argentina con Jamaica tras su fugaz viaje romántico a Brasil: las fotos', 'url': 'https://www.ciudad.com.ar/espectaculos/2024/11/12/wanda-nara-y-l-gante-llegaron-a-la-argentina-con-jamaica-tras-su-fugaz-viaje-romantico-a-brasil-las-fotos/'}, {'title': 'Los mejor vestidos de Los Más Clickeados 2024, la gran gala de Ciudad Magazine', 'url': 'https://www.ciudad.com.ar/espectaculos/2024/11/11/los-mejores-vestidos-de-los-mas-clickeados-2024-la-gran-gala-de-ciudad-magazine/'}, {'title': 'Horóscopo de hoy: martes 12 de noviembre de 2024', 'url': 'https://www.ciudad.com.ar/horoscopo/2024/11/12/horoscopo-de-hoy-martes-12-de-noviembre-de-2024/'}, {'title': 'Horóscopo de hoy: lunes 11 de noviembre de 2024', 'url': 'https://www.ciudad.com.ar/horoscopo/2024/11/11/horoscopo-de-hoy-lunes-11-de-noviembre-de-2024/'}, {'title': 'El audaz look de Milett Figueroa en un exclusivo desfile', 'url': 'https://www.ciudad.com.ar/look/2024/10/21/el-audaz-look-de-milett-figueroa-en-un-exclusivo-desfile/'}, {'title': 'Quiénes son los 16 participantes de El gran premio de la cocina, con Chino Leunis y Mica Vázquez', 'url': 'https://www.ciudad.com.ar/videos/espectaculos/2024/11/11/quienes-son-los-16-participantes-de-el-gran-premio-de-la-cocina-con-chino-leunis-y-mica-vazquez/'}, {'title': 'María Vázquez sorprendió con sus picantes indirectas en Instagram: “Hay amores que no son tan sinceros”', 'url': 'https://www.ciudad.com.ar/espectaculos/2024/11/11/maria-vazquez-sorprendio-con-sus-picantes-indirectas-en-instagram-hay-amores-que-no-son-tan-sinceros/'}, {'title': 'El comentario de Susana Giménez a Sol Pérez por su embarazo que le valió fuertes críticas en redes', 'url': 'https://www.ciudad.com.ar/espectaculos/2024/11/11/el-comentario-de-susana-gimenez-a-sol-perez-por-su-embarazo-que-le-valio-fuertes-criticas-en-redes/'}, {'title': 'La emoción de Sandra Borghi por un fuerte cambio de vida de su hija Josefina: “Lo que se viene es hermoso”', 'url': 'https://www.ciudad.com.ar/actualidad/2024/11/11/la-emocion-de-sandra-borghi-por-un-fuerte-cambio-de-vida-de-su-hija-josefina-lo-que-se-viene-es-hermoso/'}, {'title': 'Exclusivo | Flor Vigna confirmó su noviazgo con Lauta en Los Más Clickeados 2024: “Vamos a lanzar un tema” ', 'url': 'https://www.ciudad.com.ar/exclusivo/2024/11/12/exclusivo-flor-vigna-confirmo-su-noviazgo-con-lauta-en-los-mas-clickeados-2024-vamos-a-lanzar-un-tema/'}, {'title': 'Exclusivo | Mica Vázquez y Chino Leunis, íntimos en la previa del debut de El Gran Premio de la Cocina', 'url': 'https://www.ciudad.com.ar/espectaculos/2024/11/11/exclusivo-mica-vazquez-y-chino-leunis-intimos-en-la-previa-del-debut-de-el-gran-premio-de-la-cocina/'}, {'title': 'Exclusivo | Carmen Barbieri se confiesa antes de debutar en Poco Correctos: “Amo mi trabajo profundamente”', 'url': 'https://www.ciudad.com.ar/espectaculos/2024/11/11/exclusivo-carmen-barbieri-se-confiesa-antes-de-debutar-en-poco-correctos-amo-mi-trabajo-profundamente/'}, {'title': 'Rodrigo Lussich aseguró que cancelaron la ficción de Marcelo Tinelli y Martín Bossi: el escandaloso motivo', 'url': 'https://www.ciudad.com.ar/espectaculos/2024/11/11/cancelaron-la-ficcion-de-marcelo-tinelli-y-martin-bossi-el-escandaloso-motivo/'}, {'title': 'Exclusivo | Mica Vázquez y Chino Leunis, íntimos en la previa del debut de El Gran Premio de la Cocina', 'url': 'https://www.ciudad.com.ar/espectaculos/2024/11/11/exclusivo-mica-vazquez-y-chino-leunis-intimos-en-la-previa-del-debut-de-el-gran-premio-de-la-cocina/'}, {'title': 'Mauro Icardi llegó a la Argentina tras el romántico viaje de Wanda Nara y L-Gante a Brasil', 'url': 'https://www.ciudad.com.ar/espectaculos/2024/11/11/mauro-icardi-llego-a-la-argentina-tras-el-romantico-viaje-de-wanda-nara-y-l-gante-a-brasil/'}, {'title': 'La odisea de China Suárez para rescatar a un perro en plena ruta: “Ojalá aparezcan sus dueños”', 'url': 'https://www.ciudad.com.ar/espectaculos/2024/11/11/la-odisea-de-china-suarez-para-rescatar-a-un-perro-en-plena-ruta-ojala-aparezcan-sus-duenos/'}, {'title': 'Exclusivo | Carmen Barbieri se confiesa antes de debutar en Poco Correctos: “Amo mi trabajo profundamente”', 'url': 'https://www.ciudad.com.ar/espectaculos/2024/11/11/exclusivo-carmen-barbieri-se-confiesa-antes-de-debutar-en-poco-correctos-amo-mi-trabajo-profundamente/'}, {'title': 'Qué dijo Lauty Gram tras ser vinculado amorosamente con Valentina Cervantes, la ex de Enzo Fernández', 'url': 'https://www.ciudad.com.ar/espectaculos/2024/11/11/que-dijo-lauty-gram-tras-ser-vinculado-amorosamente-con-valentina-cervantes-la-ex-de-enzo-fernandez/'}, {'title': 'MSHOW - Programa del 12/11/24 - FLOR DE LA V EN LOS MÁS CLICKEADOS 2024', 'url': 'https://www.ciudad.com.ar/videos/magazine/2024/11/12/mshow-programa-del-121124-flor-de-la-v-en-los-mas-clickeados-2024/'}, {'title': 'Empezar el día - Programa del 12/11/24 - TODA LA COBERTURA DE LOS MÁS CLICKEADOS 2024', 'url': 'https://www.ciudad.com.ar/videos/magazine/2024/11/12/empezar-el-dia-programa-del-121124-toda-la-cobertura-de-los-mas-clickeados-2024/'}, {'title': 'LA JAULA DE LA MODA - Programa 11/11/24 - INVITADOS: AGOSTINA SCALISE, JUAN MANUEL PONT LEDESMA E IVAN ORDUÑA', 'url': 'https://www.ciudad.com.ar/videos/magazine/2024/11/11/la-jaula-de-la-moda-programa-111124-invitados-agostina-scalise-juan-manuel-pont-ledesma-e-ivan-orduna/'}, {'title': 'Momi Giardina se casa: en video, la espectacular propuesta que le hizo su novio en pleno show', 'url': 'https://www.ciudad.com.ar/espectaculos/2024/11/11/momi-giardina-se-casa-en-video-la-espectacular-propuesta-que-le-hizo-su-novio-en-pleno-show/'}, {'title': 'Kun Agüero fue con sus hijos al programa de Susana Giménez y la diva quedó en shock al ver a Benjamín', 'url': 'https://www.ciudad.com.ar/espectaculos/2024/11/11/kun-aguero-fue-con-sus-hijos-al-programa-de-susana-gimenez-y-la-diva-quedo-en-shock-al-ver-a-benjamin/'}, {'title': 'Scream VI llegó a Netflix y está entre las películas más vistas de Argentina', 'url': 'https://www.ciudad.com.ar/cine-y-series/2024/11/09/scream-vi-llego-a-netflix-y-esta-entre-las-peliculas-mas-vistas-de-argentina/'}, {'title': 'El Enigma Extraterrestre: el nuevo documental que ofrece una nueva visión sobre los OVNIs', 'url': 'https://www.ciudad.com.ar/cine-y-series/2024/11/09/el-enigma-extraterrestre-el-nuevo-documental-que-ofrece-una-nueva-vision-sobre-los-ovnis/'}, {'title': 'La serie documental de seis capitulos que es un éxito en streaming: ¿Dónde verla?', 'url': 'https://www.ciudad.com.ar/cine-y-series/2024/11/09/la-serie-documental-de-seis-capitulos-que-es-un-exito-en-streaming-donde-verla/'}, {'title': 'Karol G lanza “+ 57″ con Feid, DFZM, Ovy On The Drums, J Balvin, Maluma, Blessd y Ryan Castro ', 'url': 'https://www.ciudad.com.ar/musica/2024/11/08/karol-g-lanza-57-con-feid-dfzm-ovy-on-the-drums-j-balvin-maluma-blessd-y-ryan-castro/'}, {'title': 'Michael Bibi: todo lo que hay que saber para disfrutar de One Life en Buenos Aires', 'url': 'https://www.ciudad.com.ar/musica/2024/11/07/michael-bibi-todo-lo-que-hay-que-saber-para-disfrutar-de-one-life-en-buenos-aires/'}, {'title': 'Margarita sumó una octava función con más de 60 mil espectadores', 'url': 'https://www.ciudad.com.ar/musica/2024/11/07/margarita-sumo-una-octava-funcion-con-mas-de-60-mil-espectadores/'}, {'title': 'Carola Reyna en Okasan. Diario de viaje de una madre: fecha, sala y entradas', 'url': 'https://www.ciudad.com.ar/teatro/2024/11/04/carola-reyna-en-okasan-diario-de-viaje-de-una-madre-fecha-sala-y-entradas/'}, {'title': 'Nico Vázquez viajó a Filadelfia para grabar la promoción de “Rocky” y confirmó a Dai Fernández como su pareja protagónica', 'url': 'https://www.ciudad.com.ar/teatro/2024/11/04/nico-vazquez-viajo-a-filadelfia-y-confirmo-a-dai-fernandez-como-su-pareja-en-rocky/'}, {'title': 'Tootsie se despidió de los escenarios: la emoción de Nico Vázquez', 'url': 'https://www.ciudad.com.ar/teatro/2024/10/28/tootsie-se-despidio-de-los-escenarios-la-emocion-de-nico-vazquez/'}]\n"
     ]
    }
   ],
   "source": [
    "articles = get_home_articles(website)\n",
    "article = retrieve_news(articles[0][\"url\"])\n",
    "row_list = []\n",
    "#col_names = [\"TITLE\", \"URL\", \"BODY\",\"SECTION\"]\n",
    "for i in range(len(articles)):\n",
    "    #print(articles[i][\"url\"])\n",
    "    article = retrieve_news(articles[i][\"url\"])\n",
    "    row = [article.title, articles[i][\"url\"], article.body, \"home\"]\n",
    "    row_list.append(row)"
   ]
  },
  {
   "cell_type": "code",
   "execution_count": 11,
   "metadata": {},
   "outputs": [],
   "source": [
    "filename = csv_filename\n",
    "with open(filename, 'a+', newline='') as f:\n",
    "    fields = ['TITLE', 'URL',\"BODY\",\"SECTION\"]\n",
    "    writer = csv.writer(f)\n",
    "\n",
    "    #moving file pointer at the start of the file\n",
    "    f.seek(0)\n",
    "    existing_lines = csv.reader(f)\n",
    "    \n",
    "    #finding no of lines in the file\n",
    "    count = 0\n",
    "    counter = 0\n",
    "    for line in existing_lines:\n",
    "        count+=1\n",
    "        break\n",
    "    \n",
    "    if count>0:\n",
    "        for row_item in row_list:\n",
    "            flag=0\n",
    "            #moving file pointer to the start of the file\n",
    "            f.seek(0)\n",
    "\n",
    "            #checking if row_item[1] is present in the second  column (URL) of csv file\n",
    "            for line in existing_lines:\n",
    "                if row_item[1] in line[1]:\n",
    "                    flag=1 \n",
    "\n",
    "            #if row_item[1] is not found                   \n",
    "            if flag==0:\n",
    "                writer.writerow(row_item)\n",
    "                counter += 1\n",
    "                print(str(counter) + \": \"+ row_item[1])\n",
    "    #if file is empty write the dictionary contents into the csv\n",
    "    else:\n",
    "        for row_item in row_list:\n",
    "            writer.writerow(row_item)"
   ]
  }
 ],
 "metadata": {
  "kernelspec": {
   "display_name": "Python 3",
   "language": "python",
   "name": "python3"
  },
  "language_info": {
   "codemirror_mode": {
    "name": "ipython",
    "version": 3
   },
   "file_extension": ".py",
   "mimetype": "text/x-python",
   "name": "python",
   "nbconvert_exporter": "python",
   "pygments_lexer": "ipython3",
   "version": "3.9.4"
  }
 },
 "nbformat": 4,
 "nbformat_minor": 2
}
