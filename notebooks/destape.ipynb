{
 "cells": [
  {
   "cell_type": "code",
   "execution_count": 122,
   "metadata": {},
   "outputs": [],
   "source": [
    "import requests\n",
    "from bs4 import BeautifulSoup as bs\n",
    "import csv as csv"
   ]
  },
  {
   "cell_type": "code",
   "execution_count": 123,
   "metadata": {},
   "outputs": [],
   "source": [
    "def get_home_articles(url:str) -> list:\n",
    "  article = requests.get(url)\n",
    "  container = bs(article.content, \"html.parser\")\n",
    "  body = container.find(\"div\", id=\"sitio\")\n",
    "  urls = body.find_all(\"a\")\n",
    "  article_list = {\"list\":[]}\n",
    "\n",
    "  for h2 in body.find_all(\"h2\"):\n",
    "    item = {}\n",
    "    item[\"title\"]  = h2.text\n",
    "    item[\"url\"]  = url + h2.a.get(\"href\")\n",
    "    article_list[\"list\"].append(item) \n",
    "  \n",
    "  return article_list[\"list\"]"
   ]
  },
  {
   "cell_type": "code",
   "execution_count": 124,
   "metadata": {},
   "outputs": [],
   "source": [
    "#get_home_articles(\"https://www.eldestapeweb.com\")"
   ]
  },
  {
   "cell_type": "code",
   "execution_count": 125,
   "metadata": {},
   "outputs": [],
   "source": [
    "\n",
    "class el_destape:\n",
    "    def __init__(self, url:str):\n",
    "        article = requests.get(url)\n",
    "        self.soup = bs(article.content, \"html.parser\")\n",
    "        self.body = self.get_body()\n",
    "        self.title = self.get_title()\n",
    "        \n",
    "    def get_body(self) -> list:\n",
    "        body = self.soup.find(class_=\"cuerpo\")\n",
    "        content=\"\"\n",
    "        for p in body.find_all(\"p\"):\n",
    "            content = content + p.text\n",
    "            content = content + \"\\n\"     \n",
    "        #return [p.text for p in body.find_all(\"p\")]\n",
    "        return content\n",
    "    def get_title(self) -> str:\n",
    "        return self.soup.find(class_=\"titulo\").text"
   ]
  },
  {
   "cell_type": "code",
   "execution_count": 126,
   "metadata": {},
   "outputs": [
    {
     "name": "stdout",
     "output_type": "stream",
     "text": [
      "Libertad para aumentar: eliminan topes para las tarifas de Internet, celulares y cable\n"
     ]
    }
   ],
   "source": [
    "articles = get_home_articles(\"https://www.eldestapeweb.com\")\n",
    "article = el_destape(articles[0][\"url\"])\n",
    "print(article.title)\n"
   ]
  },
  {
   "cell_type": "code",
   "execution_count": 127,
   "metadata": {},
   "outputs": [],
   "source": [
    "#col_names = [\"TITLE\", \"URL\", \"BODY\",\"SECTION\"]\n",
    "row_list = []\n",
    "for i in range(len(articles)):\n",
    "    article = el_destape(articles[i][\"url\"])\n",
    "    row = [article.title, articles[i][\"url\"], article.body, \"home\"]\n",
    "    row_list.append(row)"
   ]
  },
  {
   "cell_type": "code",
   "execution_count": 128,
   "metadata": {},
   "outputs": [
    {
     "name": "stdout",
     "output_type": "stream",
     "text": [
      "1: https://www.eldestapeweb.com/economia/tarifas/libertad-para-aumentar-eliminan-topes-para-las-tarifas-de-internet-celulares-y-cable-20246278290\n",
      "2: https://www.eldestapeweb.com/economia/javier-milei-presidente/impuesto-a-las-ganancias-por-que-la-justicia-puede-dejar-al-gobierno-en-el-peor-escenario-20246278400\n",
      "3: https://www.eldestapeweb.com/politica/javier-milei-presidente/la-ley-bases-llega-tarde-y-milei-no-sale-de-la-trampa-2024627056\n",
      "4: https://www.eldestapeweb.com/politica/javier-milei-presidente/luego-de-seis-meses-diputados-le-aprobara-hoy-al-gobierno-su-ley-bases-2024627056\n",
      "5: https://www.eldestapeweb.com/economia/ley-bases/la-hoja-de-ruta-para-el-dia-despues-2024627056\n",
      "6: https://www.eldestapeweb.com/politica/ley-bases/ley-bases-cuales-son-los-cambios-del-proyecto-que-se-votaran-manana-202462621100\n",
      "7: https://www.eldestapeweb.com/politica/juntos-por-el-cambio/post-ley-bases-arranca-la-nueva-etapa-para-la-oposicion-dialoguista--2024627056\n",
      "8: https://www.eldestapeweb.com/economia/deuda/primer-trimestre-crecio-la-deuda-externa-y-la-fuga-de-capitales-2024627056\n",
      "9: https://www.eldestapeweb.com/sociedad/desaparicion-de-loan/periodista-asesinada-en-corrientes-habia-denunciado-al-comisario-del-caso-loan-violador--2024627056\n",
      "10: https://www.eldestapeweb.com/economia/casa-propia/las-mentiras-de-milei-y-marra-sobre-el-boom-de-los-creditos-hipotecarios-2024627056\n",
      "11: https://www.eldestapeweb.com/internacionales/bolivia/las-claves-para-entender-el-intento-de-golpe-de-estado-en-bolivia-202462621520\n",
      "12: https://www.eldestapeweb.com/politica/javier-milei-presidente/giro-inesperado-el-gobierno-no-previo-un-partido-de-la-seleccion-y-analiza-posponer-el-pacto-de-mayo-202462619260\n",
      "13: https://www.eldestapeweb.com/politica/ley-bases/con-dudas-en-el-numero-menem-presiono-a-los-legisladores-de-la-rioja-20246278140\n",
      "14: https://www.eldestapeweb.com/economia/crisis-economica/por-la-crisis-el-70-de-los-hogares-redujeron-sus-servicios-de-internet-y-television-202462620390\n",
      "15: https://www.eldestapeweb.com/economia/bcra/el-ultimo-informe-del-indec-publico-cuantos-dolares-tienen-los-argentinos-debajo-del-colchon--202462621510\n",
      "16: https://www.eldestapeweb.com/sociedad/barracas/ultimo-adios-a-las-victimas-de-la-masacre-de-barracas-2024627056\n",
      "17: https://www.eldestapeweb.com/internacionales/bolivia/intento-de-golpe-de-estado-en-bolivia-quien-es-juan-jose-zuniga-el-excomandante-que-encabezo-el-levantamiento-202462618430\n",
      "18: https://www.eldestapeweb.com/deportes/copa-america/partidos-hoy-jueves-27-de-junio-en-la-copa-america-202462783536\n",
      "19: https://www.eldestapeweb.com/deportes/boca-juniors/riquelme-y-diego-martinez-sorprenden-con-un-refuerzo-para-boca-juniors-202462623400\n",
      "20: https://www.eldestapeweb.com/deportes/argentina/uno-mas-ya-son-133-los-argentinos-clasificados-para-disputar-los-juegos-olimpicos-202462622110\n",
      "21: https://www.eldestapeweb.com/deportes/tenis/wimbledon-2024-otro-golpe-de-un-argentino-que-suena-en-la-catedral-del-tenis-202462619530\n",
      "22: https://www.eldestapeweb.com/deportes/seleccion-argentina/la-esposa-de-un-jugador-de-chile-liquido-a-rodrigo-de-paul-mala-leche--202462619470\n",
      "23: https://www.eldestapeweb.com/politica/javier-milei-presidente/javier-milei-presidente-el-minuto-a-minuto-de-este-jueves-27-de-junio-2024627910\n",
      "24: https://www.eldestapeweb.com/politica/javier-milei-presidente/un-jueves-marcado-por-la-movilizacion-al-congreso-contra-la-ley-bases-20246275036\n",
      "25: https://www.eldestapeweb.com/politica/impuesto-a-las-ganancias/impuesto-a-las-ganancias-misiones-estaria-entre-las-provincias-mas-perjudicadad-por-esta-medida-202462619260\n",
      "26: https://www.eldestapeweb.com/economia/dolar/dolar-hoy-a-cuanto-cotiza-este-jueves-27-de-junio-20246277210\n",
      "27: https://www.eldestapeweb.com/economia/impuestos/a-contramano-de-milei-paises-del-g-20-proponen-un-impuesto-global-a-los-ricos--202462622200\n",
      "28: https://www.eldestapeweb.com/economia/energia/mar-del-plata-noruega-y-el-mar-le-confirmaron-a-milei-la-peor-noticia-para-el-futuro-de-la-energia-en-argentina-y-la-llegada-de-dolares-se-complica-202462621260\n",
      "29: https://www.eldestapeweb.com/economia/salarios/paritarias-2024-la-union-ferroviaria-logro-un-aumento-salarial-del-13-4-en-junio-202462619310\n",
      "30: https://www.eldestapeweb.com/economia/peajes/mas-aumentos-las-tarifas-en-las-rutas-de-misiones-estan-entre-las-mas-caras-del-pais-202462619290\n",
      "31: https://www.eldestapeweb.com/sociedad/anses/fechas-de-cobro-anses-quienes-cobran-jubilaciones-pensiones-y-auh-este-jueves-27-de-junio-20246278500\n",
      "32: https://www.eldestapeweb.com/sociedad/pronóstico-del-tiempo/alerta-por-frio-como-sigue-el-clima-en-caba-y-el-conurbano-hoy-27-de-junio-20246277550\n",
      "33: https://www.eldestapeweb.com/sociedad/desaparicion-de-loan/caso-loan-y-las-ultimas-noticias-hoy-27-de-junio-el-minuto-a-minuto-de-su-busqueda-20246277380\n",
      "34: https://www.eldestapeweb.com/sociedad/efemerides/efemerides-del-27-de-junio-que-paso-un-dia-como-hoy-20246270052\n",
      "35: https://www.eldestapeweb.com/atr/netflix/que-hacer-si-mi-smart-tv-no-me-dejar-ver-mas-netflix--20246279100\n",
      "36: https://www.eldestapeweb.com/atr/gastronomia/llega-la-4-edicion-de-la-chocolaterie-en-la-rural-cuando-es-precio-de-las-entradas-y-descuentos-20246278380\n",
      "37: https://www.eldestapeweb.com/atr/curiosidades/los-nombres-de-ninos-mas-usados-en-argentina-segun-un-informe-20246278360\n",
      "38: https://www.eldestapeweb.com/atr/transporte-publico/transporte-hoy-27-de-junio-como-estan-los-trenes-colectivos-y-el-transito-minuto-a-minuto-20246277200\n",
      "39: https://www.eldestapeweb.com/atr/television/gran-hermano-quien-es-el-primer-finalista-del-programa-202462623410\n",
      "40: https://www.eldestapeweb.com/atr/television/gran-hermano-quien-quedo-en-placa-este-miercoles-26-de-junio-202462623410\n",
      "41: https://www.eldestapeweb.com/informacion-general/campo/fuerte-acusacion-al-sector-agropecuario-tienen-el-termometro-fiscal-selectivo--202462620130\n",
      "42: https://www.eldestapeweb.com/cultura/cine/asi-lucen-tom-hanks-y-robin-wright-rejuvenecidos-por-la-ia-a-30-anos-de-forrest-gump-202462619380\n",
      "43: https://www.eldestapeweb.com/cultura/cine/shock-en-hollywood-fue-una-mujer-con-alzheimer-en-un-exito-del-cine-y-contrajo-la-enfermedad-en-la-vida-real-202462621470\n",
      "44: https://www.eldestapeweb.com/deportes/francia/pogacar-es-el-hombre-a-batir-en-el-tour-de-francia-tras-conquistar-el-giro-de-italia-2024626101718\n",
      "45: https://www.eldestapeweb.com/deportes/independiente/chau-independiente-una-estrella-confirmo-que-se-va-y-preocupa-a-vaccari-202462611210\n"
     ]
    }
   ],
   "source": [
    "filename = 'destape_news.csv'\n",
    "with open(filename, 'a+', newline='') as f:\n",
    "    fields = ['TITLE', 'URL',\"BODY\",\"SECTION\"]\n",
    "    writer = csv.writer(f)\n",
    "\n",
    "    #moving file pointer at the start of the file\n",
    "    f.seek(0)\n",
    "    existing_lines = csv.reader(f)\n",
    "    \n",
    "    #finding no of lines in the file\n",
    "    count = 0\n",
    "    counter = 0\n",
    "    for line in existing_lines:\n",
    "        count+=1\n",
    "        break\n",
    "    \n",
    "    if count>0:\n",
    "        for row_item in row_list:\n",
    "            flag=0\n",
    "            #moving file pointer to the start of the file\n",
    "            f.seek(0)\n",
    "\n",
    "            #checking if row_item[1] is present in the second  column (URL) of csv file\n",
    "            for line in existing_lines:\n",
    "                if row_item[1] in line[1]:\n",
    "                    flag=1 \n",
    "\n",
    "            #if row_item[1] is not found                   \n",
    "            if flag==0:\n",
    "                writer.writerow(row_item)\n",
    "                counter += 1\n",
    "                print(str(counter) + \": \"+ row_item[1])\n",
    "    #if file is empty write the dictionary contents into the csv\n",
    "    else:\n",
    "        for row_item in row_list:\n",
    "            writer.writerow(row_item)"
   ]
  }
 ],
 "metadata": {
  "kernelspec": {
   "display_name": "Python 3",
   "language": "python",
   "name": "python3"
  },
  "language_info": {
   "codemirror_mode": {
    "name": "ipython",
    "version": 3
   },
   "file_extension": ".py",
   "mimetype": "text/x-python",
   "name": "python",
   "nbconvert_exporter": "python",
   "pygments_lexer": "ipython3",
   "version": "3.9.4"
  }
 },
 "nbformat": 4,
 "nbformat_minor": 2
}
