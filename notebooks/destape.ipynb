{
 "cells": [
  {
   "cell_type": "code",
   "execution_count": null,
   "metadata": {},
   "outputs": [],
   "source": [
    "import requests\n",
    "from bs4 import BeautifulSoup as bs\n",
    "import csv as csv"
   ]
  },
  {
   "cell_type": "code",
   "execution_count": null,
   "metadata": {},
   "outputs": [],
   "source": [
    "def get_home_articles(url:str) -> list:\n",
    "  article = requests.get(url)\n",
    "  container = bs(article.content, \"html.parser\")\n",
    "  body = container.find(\"div\", id=\"sitio\")\n",
    "  urls = body.find_all(\"a\")\n",
    "  article_list = {\"list\":[]}\n",
    "\n",
    "  for h2 in body.find_all(\"h2\"):\n",
    "    item = {}\n",
    "    item[\"title\"]  = h2.text\n",
    "    item[\"url\"]  = url + h2.a.get(\"href\")\n",
    "    article_list[\"list\"].append(item) \n",
    "  \n",
    "  return article_list[\"list\"]"
   ]
  },
  {
   "cell_type": "code",
   "execution_count": null,
   "metadata": {},
   "outputs": [],
   "source": [
    "#get_home_articles(\"https://www.eldestapeweb.com\")"
   ]
  },
  {
   "cell_type": "code",
   "execution_count": null,
   "metadata": {},
   "outputs": [],
   "source": [
    "\n",
    "class el_destape:\n",
    "    def __init__(self, url:str):\n",
    "        article = requests.get(url)\n",
    "        self.soup = bs(article.content, \"html.parser\")\n",
    "        self.body = self.get_body()\n",
    "        self.title = self.get_title()\n",
    "        \n",
    "    def get_body(self) -> list:\n",
    "        body = self.soup.find(class_=\"cuerpo\")\n",
    "        content=\"\"\n",
    "        for p in body.find_all(\"p\"):\n",
    "            content = content + p.text\n",
    "            content = content + \"\\n\"     \n",
    "        #return [p.text for p in body.find_all(\"p\")]\n",
    "        return content\n",
    "    def get_title(self) -> str:\n",
    "        return self.soup.find(class_=\"titulo\").text"
   ]
  },
  {
   "cell_type": "code",
   "execution_count": null,
   "metadata": {},
   "outputs": [],
   "source": [
    "articles = get_home_articles(\"https://www.eldestapeweb.com\")\n",
    "article = el_destape(articles[0][\"url\"])\n",
    "print(article.title)\n"
   ]
  },
  {
   "cell_type": "code",
   "execution_count": null,
   "metadata": {},
   "outputs": [],
   "source": [
    "#col_names = [\"TITLE\", \"URL\", \"BODY\",\"SECTION\"]\n",
    "row_list = []\n",
    "for i in range(len(articles)):\n",
    "    article = el_destape(articles[i][\"url\"])\n",
    "    row = [article.title, articles[i][\"url\"], article.body, \"home\"]\n",
    "    row_list.append(row)"
   ]
  },
  {
   "cell_type": "code",
   "execution_count": null,
   "metadata": {},
   "outputs": [],
   "source": [
    "filename = 'destape_news.csv'\n",
    "with open(filename, 'a+', newline='') as f:\n",
    "    fields = ['TITLE', 'URL',\"BODY\",\"SECTION\"]\n",
    "    writer = csv.writer(f)\n",
    "\n",
    "    #moving file pointer at the start of the file\n",
    "    f.seek(0)\n",
    "    existing_lines = csv.reader(f)\n",
    "    \n",
    "    #finding no of lines in the file\n",
    "    count = 0\n",
    "    counter = 0\n",
    "    for line in existing_lines:\n",
    "        count+=1\n",
    "        break\n",
    "    \n",
    "    if count>0:\n",
    "        for row_item in row_list:\n",
    "            flag=0\n",
    "            #moving file pointer to the start of the file\n",
    "            f.seek(0)\n",
    "\n",
    "            #checking if row_item[1] is present in the second  column (URL) of csv file\n",
    "            for line in existing_lines:\n",
    "                if row_item[1] in line[1]:\n",
    "                    flag=1 \n",
    "\n",
    "            #if row_item[1] is not found                   \n",
    "            if flag==0:\n",
    "                writer.writerow(row_item)\n",
    "                counter += 1\n",
    "                print(str(counter) + \": \"+ row_item[1])\n",
    "    #if file is empty write the dictionary contents into the csv\n",
    "    else:\n",
    "        for row_item in row_list:\n",
    "            writer.writerow(row_item)"
   ]
  }
 ],
 "metadata": {
  "kernelspec": {
   "display_name": "Python 3",
   "language": "python",
   "name": "python3"
  },
  "language_info": {
   "codemirror_mode": {
    "name": "ipython",
    "version": 3
   },
   "file_extension": ".py",
   "mimetype": "text/x-python",
   "name": "python",
   "nbconvert_exporter": "python",
   "pygments_lexer": "ipython3",
   "version": "3.9.4"
  }
 },
 "nbformat": 4,
 "nbformat_minor": 2
}
