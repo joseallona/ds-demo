{
 "cells": [
  {
   "cell_type": "code",
   "execution_count": 101,
   "metadata": {},
   "outputs": [],
   "source": [
    "import requests\n",
    "from bs4 import BeautifulSoup as bs\n",
    "import csv as csv"
   ]
  },
  {
   "cell_type": "code",
   "execution_count": 102,
   "metadata": {},
   "outputs": [],
   "source": [
    "def get_home_articles(url:str) -> list:\n",
    "  article = requests.get(url)\n",
    "  container = bs(article.content, \"html.parser\")\n",
    "  body = container.find(\"div\", id=\"sitio\")\n",
    "  urls = body.find_all(\"a\")\n",
    "  article_list = {\"list\":[]}\n",
    "\n",
    "  for h2 in body.find_all(\"h2\"):\n",
    "    item = {}\n",
    "    item[\"title\"]  = h2.text\n",
    "    item[\"url\"]  = url + h2.a.get(\"href\")\n",
    "    article_list[\"list\"].append(item) \n",
    "  \n",
    "  return article_list[\"list\"]"
   ]
  },
  {
   "cell_type": "code",
   "execution_count": 103,
   "metadata": {},
   "outputs": [],
   "source": [
    "#get_home_articles(\"https://www.eldestapeweb.com\")"
   ]
  },
  {
   "cell_type": "code",
   "execution_count": 104,
   "metadata": {},
   "outputs": [],
   "source": [
    "\n",
    "class el_destape:\n",
    "    def __init__(self, url:str):\n",
    "        article = requests.get(url)\n",
    "        self.soup = bs(article.content, \"html.parser\")\n",
    "        self.body = self.get_body()\n",
    "        self.title = self.get_title()\n",
    "        \n",
    "    def get_body(self) -> list:\n",
    "        body = self.soup.find(class_=\"cuerpo\")\n",
    "        content=\"\"\n",
    "        for p in body.find_all(\"p\"):\n",
    "            content = content + p.text\n",
    "            content = content + \"\\n\"     \n",
    "        #return [p.text for p in body.find_all(\"p\")]\n",
    "        return content\n",
    "    def get_title(self) -> str:\n",
    "        return self.soup.find(class_=\"titulo\").text"
   ]
  },
  {
   "cell_type": "code",
   "execution_count": 105,
   "metadata": {},
   "outputs": [
    {
     "name": "stdout",
     "output_type": "stream",
     "text": [
      "Caso Loan y las últimas noticias hoy 24 de junio: el minuto a minuto de su búsqueda\n"
     ]
    }
   ],
   "source": [
    "articles = get_home_articles(\"https://www.eldestapeweb.com\")\n",
    "article = el_destape(articles[0][\"url\"])\n",
    "print(article.title)\n"
   ]
  },
  {
   "cell_type": "code",
   "execution_count": 106,
   "metadata": {},
   "outputs": [],
   "source": [
    "#col_names = [\"TITLE\", \"URL\", \"BODY\",\"SECTION\"]\n",
    "row_list = []\n",
    "for i in range(len(articles)):\n",
    "    article = el_destape(articles[i][\"url\"])\n",
    "    row = [article.title, articles[i][\"url\"], article.body, \"home\"]\n",
    "    row_list.append(row)"
   ]
  },
  {
   "cell_type": "code",
   "execution_count": 107,
   "metadata": {},
   "outputs": [
    {
     "name": "stdout",
     "output_type": "stream",
     "text": [
      "1: https://www.eldestapeweb.com/politica/ajuste/fastidio-en-el-gabinete-contra-milei-ministros-se-quejan-por-bajos-sueldos--20246241870\n",
      "2: https://www.eldestapeweb.com/politica/ley-bases/pichetto-se-corta-solo-y-tendra-este-martes-su-propia-reunion-con-gobernadores-por-la-ley-bases-202462419220\n",
      "3: https://www.eldestapeweb.com/economia/crisis-economica/milei-subio-el-desempleo-a-7-7-en-el-primer-trimestre-20246241660\n",
      "4: https://www.eldestapeweb.com/economia/crisis-economica/la-economia-se-desplomo-5-1-en-el-primer-trimestre-202462416140\n",
      "5: https://www.eldestapeweb.com/economia/plan-economico/apreciacion-del-peso-y-devaluacion-del-real-jaquean-el-plan-de-milei-y-caputo-202462419350\n",
      "6: https://www.eldestapeweb.com/economia/banco-central/las-reservas-se-desplomaron-u-s-240-millones-mientras-el-blue-alcanzo-un-nuevo-record-historico-202462418180\n",
      "7: https://www.eldestapeweb.com/politica/javier-milei/el-instituto-liberal-de-praga-nego-haber-premiado-a-javier-milei-se-lo-dieron-a-un-arquitecto-202462419280\n",
      "8: https://www.eldestapeweb.com/politica/atentado-a-la-amia/historico-reclamo-de-la-amia-gobernadores-de-todas-las-fuerzas-politicas-se-reuniran-en-el-encuentro-federal-por-la-memoria-202462417500\n",
      "9: https://www.eldestapeweb.com/politica/ley-bases/preocupante-una-de-las-detenidas-en-el-congreso-denuncio-que-la-policia-se-presento-en-su-casa-202462417280\n",
      "10: https://www.eldestapeweb.com/atr/transporte/boleto-de-colectivos-el-gobierno-apunta-a-mantener-congelada-la-tarifa-en-julio-202462414520\n",
      "11: https://www.eldestapeweb.com/politica/obras-publicas/passalacqua-se-suma-a-los-gobernadores-que-acordaron-con-milei-y-logro-fondos-para-reactivar-obras-en-misiones-202462417160\n",
      "12: https://www.eldestapeweb.com/internacionales/conflicto-en-medio-oriente/guerra-de-israel-y-palestina-en-vivo-el-minuto-a-minuto-del-conflicto-en-medio-oriente-de-la-semana-del-24-de-junio-al-30-de-junio-202462415410\n",
      "13: https://www.eldestapeweb.com/deportes/boca-juniors/jugo-en-boca-se-fue-con-algunos-problemas-y-vuelve-al-futbol-argentino-202462419500\n",
      "14: https://www.eldestapeweb.com/deportes/eurocopa/el-gol-de-modric-para-croacia-que-hizo-sufrir-a-italia-202462417400\n",
      "15: https://www.eldestapeweb.com/deportes/ricardo-centurion/la-tajante-decision-de-velez-con-ricardo-centurion-oferta--20246241730\n",
      "16: https://www.eldestapeweb.com/deportes/copa-america/ricardo-gareca-revelo-la-decision-que-tomo-sobre-lionel-messi-se-mueve--20246241710\n",
      "17: https://www.eldestapeweb.com/deportes/river-plate/se-cayo-un-refuerzo-de-river-en-el-ultimo-minuto-y-sufre-demichelis-colapso--20246241670\n",
      "18: https://www.eldestapeweb.com/politica/premio-nobel/insolito-javier-milei-milei-se-propuso-como-candidato-al-nobel-de-economia-202462418320\n",
      "19: https://www.eldestapeweb.com/politica/ley-bases/las-privatizaciones-de-aerolineas-rta-y-correo-en-la-cuerda-floja-hacemos-coalicion-federal-dijo-que-no-apoya-20246241880\n",
      "20: https://www.eldestapeweb.com/politica/tarifas-electricas/misiones-abrio-la-inscripcion-para-mantener-el-subsidio-electrico-donde-y-como-anotarse-202462417520\n",
      "21: https://www.eldestapeweb.com/economia/salud/el-gobierno-habilito-a-las-prepagas-a-subir-los-coseguros-libremente-20246241630\n",
      "22: https://www.eldestapeweb.com/sociedad/desaparicion-de-loan/que-dijo-el-tio-de-loan-danilo-pena-uno-de-los-detenidos-sobre-la-desaparicion-del-nino-202462419260\n",
      "23: https://www.eldestapeweb.com/sociedad/desaparicion-de-loan/uno-por-uno-quienes-son-los-detenidos-por-el-caso-loan-danilo-pena-el-nino-desaparecido-202462419170\n",
      "24: https://www.eldestapeweb.com/sociedad/loan-danilo-pena/caso-loan-y-el-video-de-la-camioneta-peritada-asi-iban-y-volvian-del-almuerzo-el-matrimonio-detenido-202462418280\n",
      "25: https://www.eldestapeweb.com/sociedad/desaparicion-de-loan/todos-bajo-sospecha-en-el-caso-loan-el-rol-de-cada-uno-de-los-detenidos-y-de-cuanto-es-la-pena--202462416220\n",
      "26: https://www.eldestapeweb.com/atr/farandula/shock-en-la-television-por-lo-que-le-dijo-juana-viale-a-santi-maratea-vas-a-lo-de-mi-abuela--202462419470\n",
      "27: https://www.eldestapeweb.com/atr/peliculas/el-top-10-de-peliculas-preferidas-por-el-publico-argentino-segun-google-tv-202462419190\n",
      "28: https://www.eldestapeweb.com/atr/television/listorti-se-saco-en-vivo-contra-un-participante-en-el-trece-sos-un-poco-boludo--202462419180\n",
      "29: https://www.eldestapeweb.com/atr/farandula/se-filtro-un-video-de-tomasito-suller-a-los-besos-con-un-exparticipante-de-gran-hermano-202462419180\n",
      "30: https://www.eldestapeweb.com/atr/calendario-de-feriados/cuando-es-el-proximo-feriado-y-fin-de-semana-largo-en-argentina-2024-202462418260\n",
      "31: https://www.eldestapeweb.com/atr/television/separaron-a-costa-de-su-trabajo-grave-denuncia-contra-la-figura-de-telefe-202462418250\n",
      "32: https://www.eldestapeweb.com/atr/salud/el-superalimento-que-termina-con-la-resaca-y-ayuda-a-adelgazar-202462416240\n",
      "33: https://www.eldestapeweb.com/informacion-general/economias-regionales/incertidumbre-en-la-industria-pyme-no-se-como-vamos-a-hacer-para-salir-de-este-escenario--202462415520\n",
      "34: https://www.eldestapeweb.com/informacion-general/tarifas/aumenta-la-preocupacion-por-el-aumento-de-la-tarifa-electrica-milei-en-cuatro-meses-aumento-la-energia-lo-mismo-que-macri-en-sus-primeros-tres-anos--202462415300\n",
      "35: https://www.eldestapeweb.com/atr/tecnologia/este-es-el-mejor-gin-de-argentina-segun-la-inteligencia-artificial-202462417170\n",
      "36: https://www.eldestapeweb.com/cultura/recitales/entradas-nathy-peluso-en-argentina-2024-precios-donde-comprar-y-cuando-toca-202462418270\n",
      "37: https://www.eldestapeweb.com/cultura/cine/se-supo-cual-es-la-pelicula-de-superheroes-mas-gay-de-marvel-202462417290\n",
      "38: https://www.eldestapeweb.com/politica/el-destape-cordoba/sin-intentos-de-llaryora-para-evitar-la-medida-los-docentes-ratificaron-el-paro-para-este-martes-20246241600\n",
      "39: https://www.eldestapeweb.com/mundo/del/alto-funcionario-militar-norcoreano-critica-a-eeuu-por-ampliar-su-apoyo-a-ucrania-202462323539\n",
      "40: https://www.eldestapeweb.com/informacion-general/palestinos/los-huties-reivindican-ataques-contra-dos-buques-en-el-mar-rojo-y-el-oceano-indico-2024623225738\n"
     ]
    }
   ],
   "source": [
    "filename = 'destape_news.csv'\n",
    "with open(filename, 'a+', newline='') as f:\n",
    "    fields = ['TITLE', 'URL',\"BODY\",\"SECTION\"]\n",
    "    writer = csv.writer(f)\n",
    "\n",
    "    #moving file pointer at the start of the file\n",
    "    f.seek(0)\n",
    "    existing_lines = csv.reader(f)\n",
    "    \n",
    "    #finding no of lines in the file\n",
    "    count = 0\n",
    "    counter = 0\n",
    "    for line in existing_lines:\n",
    "        count+=1\n",
    "        break\n",
    "    \n",
    "    if count>0:\n",
    "        for row_item in row_list:\n",
    "            flag=0\n",
    "            #moving file pointer to the start of the file\n",
    "            f.seek(0)\n",
    "\n",
    "            #checking if row_item[1] is present in the second  column (URL) of csv file\n",
    "            for line in existing_lines:\n",
    "                if row_item[1] in line[1]:\n",
    "                    flag=1 \n",
    "\n",
    "            #if row_item[1] is not found                   \n",
    "            if flag==0:\n",
    "                writer.writerow(row_item)\n",
    "                counter += 1\n",
    "                print(str(counter) + \": \"+ row_item[1])\n",
    "    #if file is empty write the dictionary contents into the csv\n",
    "    else:\n",
    "        for row_item in row_list:\n",
    "            writer.writerow(row_item)"
   ]
  }
 ],
 "metadata": {
  "kernelspec": {
   "display_name": "Python 3",
   "language": "python",
   "name": "python3"
  },
  "language_info": {
   "codemirror_mode": {
    "name": "ipython",
    "version": 3
   },
   "file_extension": ".py",
   "mimetype": "text/x-python",
   "name": "python",
   "nbconvert_exporter": "python",
   "pygments_lexer": "ipython3",
   "version": "3.9.4"
  }
 },
 "nbformat": 4,
 "nbformat_minor": 2
}
